{
 "cells": [
  {
   "cell_type": "code",
   "execution_count": null,
   "metadata": {},
   "outputs": [],
   "source": [
    "!!! warning Affichage\n",
    "\n",
    "Sur un notebook javascript, il n'y a pas de page web, l'affichage ne se fait que sur la console avec la fonction `console.log`. \n",
    "\n",
    "On ne peut pas utiliser `alert` ou `document.write`\n",
    "\n",
    "!!!\n",
    "\n",
    "Exemple:"
   ]
  },
  {
   "cell_type": "code",
   "execution_count": null,
   "metadata": {},
   "outputs": [],
   "source": [
    "console.log(\"hello world:\")"
   ]
  },
  {
   "cell_type": "markdown",
   "metadata": {},
   "source": [
    "Pendant le devoir vous pourrez \n",
    "consulter:\n",
    "\n",
    "+ HTML et CSS, le cours de base : https://prolifaxe.github.io/coursdecourtois/HTMLCSSPremiere.html\n",
    "+ JavaScript le cours : http://jerome.courtois2.free.fr/JavaScriptPremiere.html\n",
    "+ JavaScript la documentation : https://devdocs.io/javascript/\n",
    "+ CSS la documentation : https://devdocs.io/css/\n",
    "    "
   ]
  },
  {
   "cell_type": "markdown",
   "metadata": {},
   "source": [
    "# Entrainement DS JavaScript"
   ]
  },
  {
   "cell_type": "markdown",
   "metadata": {},
   "source": [
    "# Exercice 1\n",
    "Ecrire une fonction `est_voyelle(car)` en JavaScript.\n",
    "Cette fonction renvoie `true` si `car` est une voyelle sinon `false`.\n",
    "\n",
    "Exemples:\n",
    "\n",
    "`est_voyelle(\"a\")` renvoie `true`\n",
    "\n",
    "`est_voyelle(\"d\")` renvoie `false`"
   ]
  },
  {
   "cell_type": "markdown",
   "metadata": {},
   "source": [
    "## Code à mettre sur <a target =\"_blank\" href=\"https://capytale2.ac-paris.fr/web/c/4699-2688446\">Capytale</a> "
   ]
  },
  {
   "cell_type": "code",
   "execution_count": 4,
   "metadata": {},
   "outputs": [],
   "source": [
    "function est_voyelle(car){\n",
    "\n",
    "  \n",
    "}\n",
    "\n"
   ]
  },
  {
   "cell_type": "markdown",
   "metadata": {},
   "source": [
    "# Tests (ne pas mettre sur Capytale)"
   ]
  },
  {
   "cell_type": "code",
   "execution_count": 6,
   "metadata": {},
   "outputs": [
    {
     "name": "stdout",
     "output_type": "stream",
     "text": [
      "est_voyelle(a)=undefined\n",
      "est_voyelle(b)=undefined\n",
      "est_voyelle(e)=undefined\n",
      "est_voyelle(g)=undefined\n",
      "est_voyelle(i)=undefined\n"
     ]
    }
   ],
   "source": [
    "  var car=\"a\";\n",
    "  console.log(\"est_voyelle(\"+car+\")=\"+est_voyelle(car));\n",
    "  car=\"b\";\n",
    "  console.log(\"est_voyelle(\"+car+\")=\"+est_voyelle(car));\n",
    "    car=\"e\";\n",
    "  console.log(\"est_voyelle(\"+car+\")=\"+est_voyelle(car));\n",
    "    car=\"g\";\n",
    "  console.log(\"est_voyelle(\"+car+\")=\"+est_voyelle(car));\n",
    "    car=\"i\";\n",
    "  console.log(\"est_voyelle(\"+car+\")=\"+est_voyelle(car));\n"
   ]
  },
  {
   "cell_type": "markdown",
   "metadata": {},
   "source": [
    "<span style=\"color:red\">ATTENTION, pensez bien à enregister avant de commencer la suite.<span>"
   ]
  },
  {
   "cell_type": "markdown",
   "metadata": {},
   "source": [
    "# Exercice 2\n",
    "Avec une boucle FOR écrire la fonction `renverser(mot)` qui renvoie une nouvelle chaine de caractères en inversant ceux de la chaine mot\n",
    "Exemple:\n",
    "\n",
    "`renverser(\"informatique\")` renvoie `euqitamrofni`\n",
    "\n",
    "`renverser('nsi')` renvoie `isn`\n",
    "\n",
    "`renverser('')` renvoie `''`"
   ]
  },
  {
   "cell_type": "markdown",
   "metadata": {},
   "source": [
    "## Code à mettre sur <a target =\"_blank\" href=\"https://capytale2.ac-paris.fr/web/c/4699-2688446\">Capytale</a> "
   ]
  },
  {
   "cell_type": "code",
   "execution_count": 2,
   "metadata": {},
   "outputs": [],
   "source": [
    "function renverser(mot){\n",
    "\n",
    "\n",
    "  \n",
    "}"
   ]
  },
  {
   "cell_type": "markdown",
   "metadata": {},
   "source": [
    "## Tests (ne pas mettre sur Capytale)"
   ]
  },
  {
   "cell_type": "code",
   "execution_count": 4,
   "metadata": {},
   "outputs": [
    {
     "name": "stdout",
     "output_type": "stream",
     "text": [
      "renverser('informatique')=undefined\n",
      "renverser('nsi')=undefined\n",
      "renverser('')=undefined\n",
      "renverser('abcdefghij')=undefined\n"
     ]
    }
   ],
   "source": [
    " ///Tests\n",
    "\n",
    " var N=\"informatique\";\n",
    "  \n",
    "console.log(\"renverser('\"+N+\"')=\"+renverser(N));\n",
    "N=\"nsi\";\n",
    "console.log(\"renverser('\"+N+\"')=\"+renverser(N));  \n",
    "N=\"\";\n",
    "console.log(\"renverser('\"+N+\"')=\"+renverser(N));\n",
    "N=\"abcdefghij\";\n",
    "console.log(\"renverser('\"+N+\"')=\"+renverser(N));  "
   ]
  },
  {
   "cell_type": "markdown",
   "metadata": {},
   "source": [
    "<span style=\"color:red\">ATTENTION, pensez bien à enregister avant de commencer la suite.<span>"
   ]
  },
  {
   "cell_type": "markdown",
   "metadata": {},
   "source": [
    "# Exercice 3\n",
    "Pour savoir combien de bits sont nécessaires pour écrire en binaire un nombre entier strictement positif on compte le nombre de divisions euclidiennes nécessaires pour obtenir un quotient nul.\n",
    "Exemple\n",
    "```\n",
    "En partant de 26 on a :\n",
    "26=2×13+0\n",
    "13=2×6+1\n",
    "6=2×3+0\n",
    "3=2×1+1\n",
    "1=2×0+1\n",
    "````\n",
    "Comme on peut le voir, 5 divisions euclidiennes ont été nécessaires pour passer de 26 à 0 : 26 s'écrit donc sur 5 bits en binaire.\n",
    "\n",
    "Avec une boucle WHILE contruire une fonction `nombreBits(N)` qui renvoie le nombre de bits de `N` écrit en binaire. Elle doit renvoyer \"Problème ou N trop grand\" si on dépasse l'anticrash.\n",
    "\n",
    "\n",
    "ATTENTION: Ne supprimez pas l'anticrash du `WHILE`, vous serez pénalisez si je suis obligé d'intervenir.\n",
    "\n",
    "Exemples:\n",
    "\n",
    "`nombreBits(26)` renvoie `5`.\n",
    "\n",
    "`nombreBits(0)` renvoie `1`.\n",
    "\n",
    "`nombreBits(1)` renvoie `1`.\n",
    "\n",
    "`nombreBits(2)` renvoie `2`.\n"
   ]
  },
  {
   "cell_type": "markdown",
   "metadata": {},
   "source": [
    "## Code à mettre sur <a target =\"_blank\" href=\"https://capytale2.ac-paris.fr/web/c/4699-2688446\">Capytale</a> "
   ]
  },
  {
   "cell_type": "code",
   "execution_count": 7,
   "metadata": {},
   "outputs": [],
   "source": [
    "function nombreBits(N){\n",
    "   var anticrash=0;\n",
    "    \n",
    "    //Votre code...\n",
    "    \n",
    "    while( anticrash<50 ){\n",
    "\n",
    "        //Votre code...\n",
    "         anticrash++;\n",
    "    }  \n",
    "    \n",
    "    //Votre code...\n",
    "\n",
    "  \n",
    "}"
   ]
  },
  {
   "cell_type": "markdown",
   "metadata": {},
   "source": [
    "## Tests (ne pas mettre sur Capytale)"
   ]
  },
  {
   "cell_type": "code",
   "execution_count": 8,
   "metadata": {},
   "outputs": [
    {
     "name": "stdout",
     "output_type": "stream",
     "text": [
      "nombreBits(26)=undefined\n",
      "nombreBits(0)=undefined\n",
      "nombreBits(1)=undefined\n",
      "nombreBits(30)=undefined\n",
      "nombreBits(100)=undefined\n"
     ]
    }
   ],
   "source": [
    "var N=26;\n",
    "console.log(\"nombreBits(\"+N+\")=\"+nombreBits(N));\n",
    "N=0;\n",
    "console.log(\"nombreBits(\"+N+\")=\"+nombreBits(N)); \n",
    "N=1;\n",
    "console.log(\"nombreBits(\"+N+\")=\"+nombreBits(N));\n",
    "N=30;\n",
    "console.log(\"nombreBits(\"+N+\")=\"+nombreBits(N));\n",
    "  \n",
    "N=100;\n",
    "console.log(\"nombreBits(\"+N+\")=\"+nombreBits(N));  "
   ]
  },
  {
   "cell_type": "code",
   "execution_count": null,
   "metadata": {},
   "outputs": [],
   "source": []
  }
 ],
 "metadata": {
  "kernelspec": {
   "display_name": "Javascript",
   "language": "javascript",
   "name": "javascript"
  }
 },
 "nbformat": 4,
 "nbformat_minor": 2
}
