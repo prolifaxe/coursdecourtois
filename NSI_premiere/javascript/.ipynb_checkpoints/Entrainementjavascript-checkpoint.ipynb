{
 "cells": [
  {
   "cell_type": "markdown",
   "metadata": {},
   "source": [
    "!!! warning Affichage\n",
    "\n",
    "Sur un notebook javascript, il n'y a pas de page web, l'affichage ne se fait que sur la console avec la fonction `console.log`. \n",
    "\n",
    "On ne peut pas utiliser `alert` ou `document.write`\n",
    "\n",
    "!!!\n",
    "\n",
    "Exemple:"
   ]
  },
  {
   "cell_type": "code",
   "execution_count": null,
   "metadata": {},
   "outputs": [],
   "source": [
    "console.log(\"hello world:\")"
   ]
  },
  {
   "cell_type": "markdown",
   "metadata": {},
   "source": [
    "# Exercice 2\n",
    "\n",
    "Ecrire un script Javascript qui pour un triangle ABC rectangle en A, demande la longueur AB, la longueur AC et affiche une valeur approchée de l'hypoténuse BC.\n",
    "\n",
    "Sur <a target= \"_blank\" href=\"https://capytale2.ac-paris.fr/web/c/c55b-2601207\">CAPYTALE</a>, vous nommerez votre fichier : **Exercice2.html** et devez faire figurer le lien vers ce fichier sur votre page web .\n",
    "\n",
    "!!! warning Html et javascipt\n",
    "\n",
    "Sur la page Html, n'oubliez pas les balises **&lt;script>&lt;/script>** et remplacer `console.log` par `alert` ou `document.write`.\n",
    "!!!"
   ]
  },
  {
   "cell_type": "code",
   "execution_count": null,
   "metadata": {},
   "outputs": [],
   "source": []
  },
  {
   "cell_type": "code",
   "execution_count": null,
   "metadata": {},
   "outputs": [],
   "source": [
    "//Tests\n",
    "\n"
   ]
  },
  {
   "cell_type": "markdown",
   "metadata": {},
   "source": [
    "# Exercice 3\n",
    "\n",
    "Ecrire un script Javascript qui pour un triangle ABC, demande la longueur AB, la longueur AC et la longueur BC et affiche si ce triangle est rectangle (et en quel sommet) ou si il ne l'est pas.\n",
    "\n",
    "Sur <a target= \"_blank\" href=\"https://capytale2.ac-paris.fr/web/c/c55b-2601207\">CAPYTALE</a>, vous nommerez votre fichier : **Exercice3.html** et devez faire figure le lien vers ce fichier sur votre page web.\n",
    "Vous devrez tester votre script avec :\n",
    "\n",
    "  + ABC tel que AB = 3, AC = 4 et BC = 5 qui drevrait afficher : \"ABC est rectangle en A\" ;\n",
    "  + ABC tel que AB = 50, AC = 30 et BC = 40 qui drevrait afficher : \"ABC est rectangle en C\" ;\n",
    "  + ABC tel que AB = 6, AC = 10 et BC = 8 qui drevrait afficher : \"ABC est rectangle en B\" ;\n",
    "  + ABC tel que AB = 3, AC = 4 et BC = 6 qui drevrait afficher : \"ABC n'est pas rectangle\".\n",
    "\n",
    "!!! warning Html et javascipt\n",
    "\n",
    "Sur la page Html, n'oubliez pas les balises **&lt;script>&lt;/script>** et remplacer `console.log` par `alert` ou `document.write`.\n",
    "!!!"
   ]
  },
  {
   "cell_type": "code",
   "execution_count": null,
   "metadata": {},
   "outputs": [],
   "source": []
  },
  {
   "cell_type": "code",
   "execution_count": null,
   "metadata": {},
   "outputs": [],
   "source": [
    "//Tests\n",
    "\n",
    "\n"
   ]
  },
  {
   "cell_type": "markdown",
   "metadata": {},
   "source": [
    "# Exercice 4\n",
    "Ecrire un script Javascript qui tente de faire deviner un entier entre 1 et 100 de votre choix et affiche, plus petit, ou plus grand jusqu'à la victoire.\n",
    "\n",
    "Commencer par fixer votre nombre à deviner puis essayer de le générer aléatoirement dans un deuxième temps.\n",
    "\n",
    "Sur <a target= \"_blank\" href=\"https://capytale2.ac-paris.fr/web/c/c55b-2601207\">CAPYTALE</a>, vous nommerez votre fichier : **Exercice4.html** et devez faire figure le lien vers ce fichier sur votre page web : exercices JavaScript.\n",
    "!!! warning Html et javascipt\n",
    "\n",
    "Sur la page Html, n'oubliez pas les balises **&lt;script>&lt;/script>** et remplacer `console.log` par `alert` ou `document.write`.\n",
    "!!!\n",
    "\n",
    "!!! warning Boucle infinie\n",
    "\n",
    "Vous serez ammenés à utiliser une boucle `while` . Je vous invite fortement à rajouter un compteur dans votre boucle pour éviter les boucles infinies. De la maniére suivante:\n",
    "!!!"
   ]
  },
  {
   "cell_type": "code",
   "execution_count": null,
   "metadata": {},
   "outputs": [],
   "source": [
    "var anticrash = 0;\n",
    "\n",
    "// Du code…\n",
    "\n",
    "while (... && anticrash < 20) \n",
    "{\n",
    "  // Du code…\n",
    "  ...\n",
    "\n",
    " anticrash=anticrash+1;\n",
    "\n",
    "}"
   ]
  },
  {
   "cell_type": "code",
   "execution_count": null,
   "metadata": {},
   "outputs": [],
   "source": [
    "//Tests\n",
    "\n"
   ]
  },
  {
   "cell_type": "markdown",
   "metadata": {},
   "source": [
    "# Exercice 5\n",
    "\n",
    "1. Ecrire une **fonction** `a_lettre_e(phrase)` Javascript qui teste la présence de la lettre \"e\" minuscule dans une chaîne de caractères passée en paramètre. Cette fonction doit renvoyer `false` ou `true`. Utilisez votre fonction après avoir demandé une chaîne de caractères via la fonction `prompt()`.\n",
    "\n",
    "2. Ecrire une **fonction** `nombre_e(phrase)` Javascript qui compte le nombre de lettre \"e\" minuscule dans une chaîne de caractères passée en paramètre. Cette fonction doit renvoyer `false` ou `true`. Utilisez votre fonction après avoir demandé une chaîne de caractères via la fonction `prompt()`.\n",
    "\n",
    "Sur <a target= \"_blank\" href=\"https://capytale2.ac-paris.fr/web/c/c55b-2601207\">CAPYTALE</a>, vous nommerez votre fichier : **Exercice5.html** et devez faire figure le lien vers ce fichier sur votre page web :\n",
    "\n",
    "!!! warning Html et javascipt\n",
    "\n",
    "Sur la page Html, n'oubliez pas les balises **&lt;script>&lt;/script>** et remplacer `console.log` par `alert` ou `document.write`.\n",
    "!!!\n",
    "\n",
    "!!! note Aide \n",
    "\n",
    "La méthode `.length` renvoie la longueur d'une chaine `C` et la méthode `.charAt(position)` le caractère à la position précisée dans la chaîne `C`.\n",
    "\n",
    "Voici un exemple d'utilisation : <a target=\"blank\" href=\"https://prolifaxe.github.io/images/pdf/NSI/premiere/html-premiere/Javascript-Fonctions-Exemple2.html\">lien exemple 2</a>.\n",
    "!!!"
   ]
  },
  {
   "cell_type": "code",
   "execution_count": null,
   "metadata": {},
   "outputs": [],
   "source": [
    "var C='abcdefg'; // C est une chaine de caracteres\n",
    "long=C.length;   // long est la longueur de la chaine, ici 7 \n",
    "lettre=C.charAt(0); // lettre est le caractere de la chaine en position 0 (le 1er caractere)\n",
    "console.log('Chaine=' + C + ' , longueur = '+ long + ', premier caractere = ' + lettre );"
   ]
  },
  {
   "cell_type": "code",
   "execution_count": null,
   "metadata": {},
   "outputs": [],
   "source": [
    "//Code\n",
    "\n"
   ]
  },
  {
   "cell_type": "code",
   "execution_count": null,
   "metadata": {},
   "outputs": [],
   "source": [
    "//Tests\n"
   ]
  }
 ],
 "metadata": {
  "kernelspec": {
   "display_name": "Javascript",
   "language": "javascript",
   "name": "javascript"
  }
 },
 "nbformat": 4,
 "nbformat_minor": 2
}
