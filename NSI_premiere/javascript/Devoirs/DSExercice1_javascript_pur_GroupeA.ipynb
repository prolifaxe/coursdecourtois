{
 "cells": [
  {
   "cell_type": "code",
   "execution_count": null,
   "metadata": {},
   "outputs": [],
   "source": [
    "!!! warning Affichage\n",
    "\n",
    "Sur un notebook javascript, il n'y a pas de page web, l'affichage ne se fait que sur la console avec la fonction `console.log`. \n",
    "\n",
    "On ne peut pas utiliser `alert` ou `document.write`\n",
    "\n",
    "!!!\n",
    "\n",
    "Exemple:"
   ]
  },
  {
   "cell_type": "code",
   "execution_count": null,
   "metadata": {},
   "outputs": [],
   "source": [
    "console.log(\"hello world:\")"
   ]
  },
  {
   "cell_type": "markdown",
   "metadata": {},
   "source": [
    "Pendant le devoir vous pourrez \n",
    "consulter:\n",
    "\n",
    "+ HTML et CSS, le cours de base : https://prolifaxe.github.io/coursdecourtois/HTMLCSSPremiere.html\n",
    "+ JavaScript le cours : http://jerome.courtois2.free.fr/JavaScriptPremiere.html\n",
    "+ JavaScript la documentation : https://devdocs.io/javascript/\n",
    "+ CSS la documentation : https://devdocs.io/css/\n",
    "    "
   ]
  },
  {
   "cell_type": "markdown",
   "metadata": {},
   "source": [
    "# Devoir Groupe A"
   ]
  },
  {
   "cell_type": "markdown",
   "metadata": {},
   "source": [
    "# Question 1\n",
    "Sur <a target =\"_blank\" href=\"https://capytale2.ac-paris.fr/web/c/9441-2793281\">Capytale</a> ,\n",
    "      faire un bouton qui change la couleur du texte de cette question 1. Mettre le code dans dans le fichier  **javascript1.js**."
   ]
  },
  {
   "cell_type": "markdown",
   "metadata": {},
   "source": [
    "# Question 2\n",
    " Ecrire  une fonction `syracuseBase(N` en JavaScript.\n",
    "\n",
    "Cette fonction renvoie $N/2$ si n est pair sinon $3N+1$ avec un entier $N ≥ 1$ .\n",
    "On rappelle que le reste de la division euclidienne s'obtient avec `%`.\n",
    "\n",
    "Exemples:\n",
    "\n",
    "`syracuseBase(6)` renvoie `3`\n",
    "\n",
    "`syracuseBase(5)` renvoie `16` "
   ]
  },
  {
   "cell_type": "markdown",
   "metadata": {},
   "source": [
    "## Code à mettre sur <a target =\"_blank\" href=\"https://capytale2.ac-paris.fr/web/c/9441-2793281\">Capytale</a> dans le fichier  **javascript2.js**"
   ]
  },
  {
   "cell_type": "code",
   "execution_count": 4,
   "metadata": {
    "collapsed": true
   },
   "outputs": [],
   "source": [
    "function syracuseBase(N) {\n",
    "\n",
    "  \n",
    "  // Votre Code\n",
    "\n",
    "  \n",
    "}\n",
    "\n"
   ]
  },
  {
   "cell_type": "markdown",
   "metadata": {},
   "source": [
    "# Tests (ne pas mettre sur Capytale)"
   ]
  },
  {
   "cell_type": "code",
   "execution_count": 6,
   "metadata": {
    "collapsed": true
   },
   "outputs": [
    {
     "name": "stdout",
     "output_type": "stream",
     "text": [
      "est_voyelle(a)=undefined\n",
      "est_voyelle(b)=undefined\n",
      "est_voyelle(e)=undefined\n",
      "est_voyelle(g)=undefined\n",
      "est_voyelle(i)=undefined\n"
     ]
    }
   ],
   "source": [
    "var N=4;\n",
    "console.log(\"syracuseBase(\"+N+\") = \"+syracuseBase(N));\n",
    "N=2;\n",
    "console.log(\"syracuseBase(\"+N+\") = \"+syracuseBase(N))\n",
    "N=6;\n",
    "console.log(\"syracuseBase(\"+N+\") = \"+syracuseBase(N))\n",
    "\n",
    "N=11;\n",
    "console.log(\"syracuseBase(\"+N+\") = \"+syracuseBase(N))\n",
    "N=0;\n",
    "console.log(\"syracuseBase(\"+N+\") = \"+syracuseBase(N))"
   ]
  },
  {
   "cell_type": "markdown",
   "metadata": {},
   "source": [
    "<span style=\"color:red\">ATTENTION, pensez bien à enregister avant de commencer la suite.<span>"
   ]
  },
  {
   "cell_type": "markdown",
   "metadata": {},
   "source": [
    "# Question 3\n",
    "Pour construire la suite de Syracuse , on prend un nombre de départ $N ≥ 0$ et à chaque étape, on calcule $N/2$ si N est pair sinon $3N+1$.\n",
    "\n",
    "Exemple:\n",
    "\n",
    "Pour $N = 6$, nous obtenons la suite : 6, 3, 10, 5, 16, 8, 4, 2, 1.\n",
    "\n",
    "Avec une boucle `for` et en utilisant la fonction `syracuseBase(N)`, écrire la fonction `syracuseFor(N,k)` qui renvoie le kième terme de la suite de Syracuse pour la valeur $N$.\n",
    "\n",
    "Exemple:\n",
    "\n",
    "`syracuseFor(6,4)` renvoie `5`."
   ]
  },
  {
   "cell_type": "markdown",
   "metadata": {},
   "source": [
    "## Code à mettre sur <a target =\"_blank\" href=\"https://capytale2.ac-paris.fr/web/c/9441-2793281\">Capytale</a> dans le fichier  **javascript3.js**"
   ]
  },
  {
   "cell_type": "code",
   "execution_count": 2,
   "metadata": {
    "collapsed": true
   },
   "outputs": [],
   "source": [
    "function syracuseFor(N,k) {\n",
    "\n",
    "\n",
    "    //Votre code\n",
    "\n",
    "  \n",
    "  }"
   ]
  },
  {
   "cell_type": "markdown",
   "metadata": {},
   "source": [
    "## Tests (ne pas mettre sur Capytale)"
   ]
  },
  {
   "cell_type": "code",
   "execution_count": 4,
   "metadata": {
    "collapsed": true
   },
   "outputs": [
    {
     "name": "stdout",
     "output_type": "stream",
     "text": [
      "renverser('informatique')=undefined\n",
      "renverser('nsi')=undefined\n",
      "renverser('')=undefined\n",
      "renverser('abcdefghij')=undefined\n"
     ]
    }
   ],
   "source": [
    " ///Tests\n",
    "var N=6,k=4;\n",
    "  \n",
    "console.log(\"syracuseFor(\"+N+\",\"+k+\") = \"+syracuseFor(N,k));\n",
    "\n",
    "  N=1;\n",
    "  k=4;\n",
    "console.log(\"syracuseFor(\"+N+\",\"+k+\") = \"+syracuseFor(N,k));\n",
    "\n",
    "  N=0;\n",
    "  k=4;\n",
    "console.log(\"syracuseFor(\"+N+\",\"+k+\") = \"+syracuseFor(N,k));\n",
    "  N=10;\n",
    "  \n",
    "  for(var k=0;k<5;k++){\n",
    "console.log(\"syracuseFor(\"+N+\",\"+k+\") = \"+syracuseFor(N,k));\n",
    "  }"
   ]
  },
  {
   "cell_type": "markdown",
   "metadata": {},
   "source": [
    "<span style=\"color:red\">ATTENTION, pensez bien à enregister avant de commencer la suite.<span>"
   ]
  },
  {
   "cell_type": "markdown",
   "metadata": {},
   "source": [
    "# Question 4\n",
    " Collatz a conjecturé que pour tout nombre $N$ entier, la suite de Syracuse atteint la valeur $1$. \n",
    " \n",
    " Avec une boucle `while` écrire une fonction `syracuseWhile(N)` qui renvoie le nombre de termes de la suite de Syracuse jusqu'à ce qu'elle atteigne la valeur $1$. Elle doit renvoyer **\"Problème ou N trop Grand\"** si on dépasse l'`anticrash`\n",
    " \n",
    " Exemple:\n",
    "`syracuseWhile(6)` renvoie `9`.\n",
    "\n",
    "!!! warning Boucle infinie\n",
    "\n",
    "ATTENTION: Ne supprimez pas l'anticrash du`while`, vous serez pénalisez si je suis obligé d'intervenir.\n",
    "\n",
    "!!!\n",
    "\n",
    "\n",
    "\n"
   ]
  },
  {
   "cell_type": "markdown",
   "metadata": {},
   "source": [
    "## Code à mettre sur <a target =\"_blank\" href=\"https://capytale2.ac-paris.fr/web/c/9441-2793281\">Capytale</a> dans le fichier  **javascript4.js**"
   ]
  },
  {
   "cell_type": "code",
   "execution_count": 7,
   "metadata": {
    "collapsed": true
   },
   "outputs": [],
   "source": [
    "function syracuseWhile(N){\n",
    "    var anticrah=1;\n",
    "    while( anticrah<50  &&  ... ){\n",
    "      anticrah++;\n",
    "\n",
    "      //Votre code\n",
    "      \n",
    "    }\n",
    "\n",
    "      //Votre code\n",
    "    \n",
    "}"
   ]
  },
  {
   "cell_type": "markdown",
   "metadata": {},
   "source": [
    "## Tests (ne pas mettre sur Capytale)"
   ]
  },
  {
   "cell_type": "code",
   "execution_count": 8,
   "metadata": {
    "collapsed": true
   },
   "outputs": [
    {
     "name": "stdout",
     "output_type": "stream",
     "text": [
      "nombreBits(26)=undefined\n",
      "nombreBits(0)=undefined\n",
      "nombreBits(1)=undefined\n",
      "nombreBits(30)=undefined\n",
      "nombreBits(100)=undefined\n"
     ]
    }
   ],
   "source": [
    "var N=6;\n",
    "console.log(\"syracuseWhile(\"+N+\") = \"+syracuseWhile(N));\n",
    "\n",
    "   N=1;\n",
    "console.log(\"syracuseWhile(\"+N+\") = \"+syracuseWhile(N));\n",
    "   N=4;\n",
    "console.log(\"syracuseWhile(\"+N+\") = \"+syracuseWhile(2));\n",
    "   N=2;\n",
    "console.log(\"syracuseWhile(\"+N+\") = \"+syracuseWhile(N)); \n",
    "\n",
    "N=10;\n",
    "console.log(\"syracuseWhile(\"+N+\")=\"+syracuseWhile(N)); \n",
    "\n",
    "N=100; \n",
    "console.log(\"syracuseWhile(\"+N+\") = \"+syracuseWhile(N)); \n",
    "N=1000; \n",
    "console.log(\"syracuseWhile(\"+N+\") = \"+syracuseWhile(N)); \n",
    "  "
   ]
  },
  {
   "cell_type": "code",
   "execution_count": null,
   "metadata": {
    "collapsed": true
   },
   "outputs": [],
   "source": []
  }
 ],
 "metadata": {
  "kernelspec": {
   "display_name": "Javascript",
   "language": "javascript",
   "name": "javascript"
  }
 },
 "nbformat": 4,
 "nbformat_minor": 2
}
