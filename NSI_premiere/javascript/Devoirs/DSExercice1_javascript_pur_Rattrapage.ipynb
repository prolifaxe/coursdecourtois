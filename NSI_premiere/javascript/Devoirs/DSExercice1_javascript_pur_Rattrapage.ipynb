{
 "cells": [
  {
   "cell_type": "code",
   "execution_count": null,
   "metadata": {},
   "outputs": [],
   "source": [
    "!!! warning Affichage\n",
    "\n",
    "Sur un notebook javascript, il n'y a pas de page web, l'affichage ne se fait que sur la console avec la fonction `console.log`. \n",
    "\n",
    "On ne peut pas utiliser `alert` ou `document.write`\n",
    "\n",
    "!!!\n",
    "\n",
    "Exemple:"
   ]
  },
  {
   "cell_type": "code",
   "execution_count": null,
   "metadata": {},
   "outputs": [],
   "source": [
    "console.log(\"hello world:\")"
   ]
  },
  {
   "cell_type": "markdown",
   "metadata": {},
   "source": [
    "Pendant le devoir vous pourrez \n",
    "consulter:\n",
    "\n",
    "+ HTML et CSS, le cours de base : https://prolifaxe.github.io/coursdecourtois/HTMLCSSPremiere.html\n",
    "+ JavaScript le cours : https://prolifaxe.github.io/coursdecourtois/JavaScriptPremiere.html\n",
    "+ JavaScript la documentation : https://devdocs.io/javascript/\n",
    "+ CSS la documentation : https://devdocs.io/css/\n",
    "    "
   ]
  },
  {
   "cell_type": "markdown",
   "metadata": {},
   "source": [
    "# Devoir Rattrapage"
   ]
  },
  {
   "cell_type": "markdown",
   "metadata": {},
   "source": [
    "# Question 1\n",
    "Sur <a target =\"_blank\" href=\"https://capytale2.ac-paris.fr/web/c/c6f2-2893556\">Capytale</a> , faire un bouton qui change la couleur de fond de la page courante. Mettre le code JavaScript dans le fichier **javascript1.js**. "
   ]
  },
  {
   "cell_type": "markdown",
   "metadata": {},
   "source": [
    "# Question 2\n",
    "Voici la listes des voyelles japonaises\n",
    "あ ( A ), え ( E prononcée \"é\" ), い ( I ), お ( O ), う ( U prononcée \"ou\" ), . Vous pouvez accéder à leur code sur le code HTML ou faire un copié collé.\n",
    "\n",
    "Ecrire une fonction `VoyelleJap(car)` en JavaScript.\n",
    "\n",
    "Cette fonction prend un caractére voyelle en majuscules en paramétre et renvoie le caractére japonais. Si le caractére de la chaine ne fait pas partie des 5 voyelles connues, on remplace par un point d'interrogation.\n",
    "\n",
    "Exemples:\n",
    "\n",
    "`enjaponais(\"A\")` renvoie `あ`\n",
    "\n",
    "`enjaponais(\"B\")` renvoie `?` "
   ]
  },
  {
   "cell_type": "markdown",
   "metadata": {},
   "source": [
    "## Code à mettre sur <a target =\"_blank\" href=\"https://capytale2.ac-paris.fr/web/c/c6f2-2893556\">Capytale</a> dans le fichier  **javascript2.js**\n",
    "\n"
   ]
  },
  {
   "cell_type": "code",
   "execution_count": 4,
   "metadata": {
    "collapsed": true
   },
   "outputs": [],
   "source": [
    "function VoyelleJap(car) {\n",
    "   \n",
    "  }\n",
    "\n",
    "\n"
   ]
  },
  {
   "cell_type": "markdown",
   "metadata": {},
   "source": [
    "# Tests (ne pas mettre sur Capytale)"
   ]
  },
  {
   "cell_type": "code",
   "execution_count": 6,
   "metadata": {
    "collapsed": true
   },
   "outputs": [
    {
     "name": "stdout",
     "output_type": "stream",
     "text": [
      "est_voyelle(a)=undefined\n",
      "est_voyelle(b)=undefined\n",
      "est_voyelle(e)=undefined\n",
      "est_voyelle(g)=undefined\n",
      "est_voyelle(i)=undefined\n"
     ]
    }
   ],
   "source": [
    "console.log(\"VoyelleJap('A') = \"+VoyelleJap('A'));\n",
    "console.log(\"VoyelleJap('I') = \"+VoyelleJap('I'));\n",
    "console.log(\"VoyelleJap('U') = \"+VoyelleJap('U'));\n",
    "console.log(\"VoyelleJap('E') = \"+VoyelleJap('E'));\n",
    "console.log(\"VoyelleJap('O') = \"+VoyelleJap('O'));\n",
    "console.log(\"VoyelleJap('N') = \"+VoyelleJap('N'));"
   ]
  },
  {
   "cell_type": "markdown",
   "metadata": {},
   "source": [
    "<span style=\"color:red\">ATTENTION, pensez bien à enregister avant de commencer la suite.<span>"
   ]
  },
  {
   "cell_type": "markdown",
   "metadata": {},
   "source": [
    "# Question 3\n",
    "Ecrire une fonction `enjaponais(chaine)` en JavaScript.\n",
    "\n",
    "Cette fonction prend une chaine de caractéres avec uniquement des voyelles en majuscule en paramétre et renvoie la chaine avec des caractéres japonais. Si le caractére de la chaine ne fait pas partie des 5 voyelles connues, on remplace par un point d'interrogation.\n",
    "\n",
    "Exemples:\n",
    "\n",
    "`enjaponais(\"AEIOU\")` renvoie `あいうえお`\n",
    "\n",
    "`enjaponais(\"BANANE\")` renvoie `?あ?あ?え`"
   ]
  },
  {
   "cell_type": "markdown",
   "metadata": {},
   "source": [
    "## Code à mettre sur <a target =\"_blank\" href=\"https://capytale2.ac-paris.fr/web/c/c6f2-2893556\">Capytale</a> dans le fichier  **javascript3.js**"
   ]
  },
  {
   "cell_type": "code",
   "execution_count": 2,
   "metadata": {
    "collapsed": true
   },
   "outputs": [],
   "source": [
    " function enjaponais(chaine) {\n",
    "\n",
    "\n",
    "  }"
   ]
  },
  {
   "cell_type": "markdown",
   "metadata": {},
   "source": [
    "## Tests (ne pas mettre sur Capytale)"
   ]
  },
  {
   "cell_type": "code",
   "execution_count": 4,
   "metadata": {
    "collapsed": true
   },
   "outputs": [
    {
     "name": "stdout",
     "output_type": "stream",
     "text": [
      "renverser('informatique')=undefined\n",
      "renverser('nsi')=undefined\n",
      "renverser('')=undefined\n",
      "renverser('abcdefghij')=undefined\n"
     ]
    }
   ],
   "source": [
    " ///Tests\n",
    "var N=\"AEIOU\";\n",
    "console.log(\"enjaponais('\"+N+\"')= \"+enjaponais(N));\n",
    "\n",
    "  N=\"BANANE\";\n",
    "console.log(\"enjaponais('\"+N+\"') =  \"+enjaponais(N));\n",
    "  N=\"FORMIDABLE\";\n",
    "console.log(\"enjaponais('\"+N+\"') = \"+enjaponais(N));\n",
    "  N=\"AABBOOUU\";\n",
    "console.log(\"enjaponais('\"+N+\"') = \"+enjaponais(N));"
   ]
  },
  {
   "cell_type": "markdown",
   "metadata": {},
   "source": [
    "<span style=\"color:red\">ATTENTION, pensez bien à enregister avant de commencer la suite.<span>"
   ]
  },
  {
   "cell_type": "markdown",
   "metadata": {},
   "source": [
    "# Question 4\n",
    "Un palindrome est un mot qui peut se lire dans les deux sens comme \"kayak\", \"radar\" ou \"rotor\".\n",
    "\n",
    "Ecrire une fonction `est_palindrome(chaine)` qui prend une chaine de caractères en entrée et qui renvoie le booléen `true` si la chaine est un palindrome sinon `false`.\n",
    "\n",
    "Exemple:\n",
    "\n",
    "`est_palindrome(\"kayak\")` renvoie `true`\n",
    "\n",
    "`est_palindrome(\"final\")` renvoie `false` \n",
    "\n",
    "\n",
    "\n"
   ]
  },
  {
   "cell_type": "markdown",
   "metadata": {},
   "source": [
    "## Code à mettre sur <a target =\"_blank\" href=\"https://capytale2.ac-paris.fr/web/c/c6f2-2893556\">Capytale</a> dans le fichier  **javascript4.js**"
   ]
  },
  {
   "cell_type": "code",
   "execution_count": 7,
   "metadata": {
    "collapsed": true
   },
   "outputs": [],
   "source": [
    "  \n",
    "  function est_palindrome(chaine){\n",
    "\n",
    "      \n",
    "  }"
   ]
  },
  {
   "cell_type": "markdown",
   "metadata": {},
   "source": [
    "## Tests (ne pas mettre sur Capytale)"
   ]
  },
  {
   "cell_type": "code",
   "execution_count": 8,
   "metadata": {
    "collapsed": true
   },
   "outputs": [
    {
     "name": "stdout",
     "output_type": "stream",
     "text": [
      "nombreBits(26)=undefined\n",
      "nombreBits(0)=undefined\n",
      "nombreBits(1)=undefined\n",
      "nombreBits(30)=undefined\n",
      "nombreBits(100)=undefined\n"
     ]
    }
   ],
   "source": [
    "var N=\"radar\";\n",
    "   document.write(\"est_palindrome('\"+N+\"') = \"+est_palindrome(N));\n",
    "var N=\"final\";\n",
    "   document.write(\"est_palindrome('\"+N+\"') = \"+est_palindrome(N));\n",
    "\n",
    "//D'autres Tests\n",
    "\n",
    "N=\"radir\";\n",
    "   document.write(\"est_palindrome('\"+N+\"') = \"+est_palindrome(N));\n",
    " N=\"abccba\";\n",
    "   document.write(\"est_palindrome('\"+N+\"') = \"+est_palindrome(N));\n",
    "N=\"abccta\";\n",
    "   document.write(\"est_palindrome('\"+N+\"') = \"+est_palindrome(N));\n",
    "  "
   ]
  },
  {
   "cell_type": "code",
   "execution_count": null,
   "metadata": {
    "collapsed": true
   },
   "outputs": [],
   "source": []
  }
 ],
 "metadata": {
  "kernelspec": {
   "display_name": "Javascript",
   "language": "javascript",
   "name": "javascript"
  }
 },
 "nbformat": 4,
 "nbformat_minor": 2
}
